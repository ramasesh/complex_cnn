{
 "cells": [
  {
   "cell_type": "code",
   "execution_count": 1,
   "metadata": {
    "collapsed": true
   },
   "outputs": [],
   "source": [
    "import numpy as np\n",
    "import scipy as sc\n",
    "\n",
    "import matplotlib.pyplot as plt\n",
    "%matplotlib inline"
   ]
  },
  {
   "cell_type": "code",
   "execution_count": 91,
   "metadata": {
    "collapsed": true
   },
   "outputs": [],
   "source": [
    "def dfdx(fun, z, eps = 1e-6, params = None):\n",
    "    # returns the derivative of fun with respect to x evaluated at z\n",
    "    return np.divide(fun(z + eps, params) - fun(z, params), eps)\n",
    "\n",
    "def dfdy(fun, z, eps = 1e-6, params = None):\n",
    "    # returns the derivative of fun with respect to y evaluated at z\n",
    "    return np.divide(fun(z + eps*1j, params) - fun(z, params), eps)"
   ]
  },
  {
   "cell_type": "code",
   "execution_count": 92,
   "metadata": {
    "collapsed": true
   },
   "outputs": [],
   "source": [
    "def test_derivatives(fun, dfundz, dfundzc, n_pts = 10, eps = None, params = None):\n",
    "    fail_counts = 0\n",
    "    for i in range(n_pts):\n",
    "        z_test = np.random.randn() + np.random.randn()*1j\n",
    "        dx = np.random.randn()/30\n",
    "        dy = np.random.randn()/30*1j\n",
    "        dz_test = dx + dy*1j\n",
    "        dzc_test = dx - dy*1j\n",
    "        \n",
    "        print 'z = {}, dz = {}'.format(np.round(z_test, 3), np.round(dz_test, 3))\n",
    "        a = dfdx(fun, z_test, eps, params)*dx + dfdy(fun, z_test, eps, params)*dy\n",
    "        b = dfundz(z_test, params)*dz_test + dfundzc(z_test, params)*dzc_test\n",
    "        print 'R method: {}, Your method: {}'.format(np.round(a, 3), np.round(b, 3))\n",
    "        \n",
    "        if not np.round(a, 3) == np.round(b, 3):\n",
    "            print \"Failure!\"\n",
    "            fail_counts += 1\n",
    "    print \"Done with tests, {} out of {} failed.\".format(fail_counts, n_pts)\n",
    "        "
   ]
  },
  {
   "cell_type": "markdown",
   "metadata": {},
   "source": [
    "Test 1: Magnitude of z"
   ]
  },
  {
   "cell_type": "code",
   "execution_count": 35,
   "metadata": {
    "collapsed": true
   },
   "outputs": [],
   "source": [
    "def f1(z, params = None):\n",
    "    # definition of complex function.\n",
    "    # in the case of a function with additional parameters, e.g. siglog,\n",
    "    # the params should be passed in the second argument as an array    \n",
    "    return np.power(np.abs(z),3)\n",
    "\n",
    "def df1dz(z, params = None):\n",
    "    # our guess for the derivative of the complex function \n",
    "    # w.r.t. z\n",
    "    return 1.5*np.abs(z)*np.conj(z)\n",
    "\n",
    "def df1dzc(z, params = None):\n",
    "    # our guess for the derivative of the complex function \n",
    "    # w.r.t. conj(z)\n",
    "    return 1.5*np.abs(z)*z"
   ]
  },
  {
   "cell_type": "markdown",
   "metadata": {},
   "source": [
    "Test 2: z"
   ]
  },
  {
   "cell_type": "code",
   "execution_count": 41,
   "metadata": {
    "collapsed": true
   },
   "outputs": [],
   "source": [
    "def f2(z, params = None):\n",
    "    # definition of complex function.\n",
    "    # in the case of a function with additional parameters, e.g. siglog,\n",
    "    # the params should be passed in the second argument as an array    \n",
    "    return z\n",
    "\n",
    "def df2dz(z, params = None):\n",
    "    # our guess for the derivative of the complex function \n",
    "    # w.r.t. z\n",
    "    return 1\n",
    "\n",
    "def df2dzc(z, params = None):\n",
    "    # our guess for the derivative of the complex function \n",
    "    # w.r.t. conj(z)\n",
    "    return 0*z"
   ]
  },
  {
   "cell_type": "markdown",
   "metadata": {},
   "source": [
    "Test 3: Cardioid"
   ]
  },
  {
   "cell_type": "code",
   "execution_count": 86,
   "metadata": {
    "collapsed": true
   },
   "outputs": [],
   "source": [
    "def fcard(z, params = None):\n",
    "    return 0.5*(1+ np.cos(np.angle(z)))*z\n",
    "\n",
    "def dfcard_dz(z, params = None):\n",
    "    return 0.5 + 0.5*np.cos(np.angle(z)) + 0.25*1j*np.sin(np.angle(z))\n",
    "\n",
    "def dfcard_dzc(z, params = None):\n",
    "    return -0.25*1j*np.sin(np.angle(z))*z/np.conj(z)"
   ]
  },
  {
   "cell_type": "markdown",
   "metadata": {},
   "source": [
    "Test Separable Sigmoid"
   ]
  },
  {
   "cell_type": "code",
   "execution_count": 89,
   "metadata": {
    "collapsed": false
   },
   "outputs": [],
   "source": [
    "def fss(z, params = None):\n",
    "    rez = np.real(z)\n",
    "    imz = np.imag(z)\n",
    "    return sigmoid(rez) + 1j*sigmoid(imz)\n",
    "    \n",
    "def sigmoid(x):\n",
    "    return np.divide(1, 1+np.exp(-1*x))\n",
    "\n",
    "def diff_sigmoid(x):\n",
    "    return np.divide(np.exp(-x), np.power(1+np.exp(-x), 2))\n",
    "\n",
    "def dfss_dz(z, params = None):\n",
    "    rez = np.real(z)\n",
    "    imz = np.imag(z)\n",
    "    return 0.5*(diff_sigmoid(rez)+diff_sigmoid(imz))\n",
    "       \n",
    "def dfss_dzc(z, params = None):\n",
    "    rez = np.real(z)\n",
    "    imz = np.imag(z)\n",
    "    return 0.5*(diff_sigmoid(rez)-diff_sigmoid(imz))"
   ]
  },
  {
   "cell_type": "markdown",
   "metadata": {},
   "source": [
    "Test siglog (without the c and r)"
   ]
  },
  {
   "cell_type": "code",
   "execution_count": 133,
   "metadata": {
    "collapsed": false
   },
   "outputs": [],
   "source": [
    "def siglog(z, params = [1,1]):\n",
    "    d = params[0]\n",
    "    s = params[1]\n",
    "    return np.divide(s*z, 1+np.power( np.abs(s*z), d))\n",
    "\n",
    "def dsiglog_dzc(z, params = [1,1]):\n",
    "    d = params[0]\n",
    "    s = params[1]\n",
    "    return np.divide(-1*d*np.power(z,2)*np.power(s, d+1)*np.power(np.abs(z), d-2)/2.0,\n",
    "                     np.power((1+np.power(np.abs(s*z), d)), 2))\n",
    "\n",
    "def dsiglog_dz(z, params = [1,1]):\n",
    "    d = params[0]\n",
    "    s = params[1]\n",
    "    return np.divide(2*s*(1+np.power(np.abs(s*z), d))- s*d*np.power(np.abs(s*z), d), \n",
    "                     2*np.power((1+np.power(np.abs(s*z), d)), 2))"
   ]
  },
  {
   "cell_type": "code",
   "execution_count": 141,
   "metadata": {
    "collapsed": false
   },
   "outputs": [
    {
     "name": "stdout",
     "output_type": "stream",
     "text": [
      "z = (-1.062+0.882j), dz = (-0.038+0j)\n",
      "R method: (0.032+0.008j), Your method: (0.032+0.008j)\n",
      "z = (0.057+0.456j), dz = (-0.008+0j)\n",
      "R method: (-0.001+0.001j), Your method: (-0.001+0.001j)\n",
      "z = (0.935+0.212j), dz = (-0.012+0j)\n",
      "R method: (0.008-0.001j), Your method: (0.008-0.001j)\n",
      "z = (2.104+0.339j), dz = (0.002+0j)\n",
      "R method: (-0.001+0j), Your method: (-0.001+0j)\n",
      "z = (1.545+0.022j), dz = (-0.056+0j)\n",
      "R method: (0.051+0j), Your method: (0.051+0j)\n",
      "z = (-0.889-1.297j), dz = (-0.056+0j)\n",
      "R method: (0.047+0.01j), Your method: (0.047+0.01j)\n",
      "z = (0.659-0.312j), dz = (-0.016+0j)\n",
      "R method: (-0.003+0.015j), Your method: (-0.003+0.015j)\n",
      "z = (0.665+0.487j), dz = (0.106+0j)\n",
      "R method: (-0.068+0j), Your method: (-0.068+0j)\n",
      "z = (0.395-0.558j), dz = (-0.007+0j)\n",
      "R method: (0.006+0.007j), Your method: (0.006+0.007j)\n",
      "z = (-0.791+0.627j), dz = (-0.015+0j)\n",
      "R method: (0.012-0.004j), Your method: (0.012-0.004j)\n",
      "Done with tests, 0 out of 10 failed.\n"
     ]
    }
   ],
   "source": [
    "test_derivatives(siglog, dsiglog_dz, dsiglog_dzc, eps = 1e-10, params = [-2,-1])"
   ]
  },
  {
   "cell_type": "markdown",
   "metadata": {},
   "source": [
    "Test siglog (with the r and c)"
   ]
  },
  {
   "cell_type": "code",
   "execution_count": 149,
   "metadata": {
    "collapsed": false
   },
   "outputs": [],
   "source": [
    "def sigloge(z, params = [1,1, 1, 1]):\n",
    "    d = params[0]\n",
    "    s = params[1]\n",
    "    c = params[2]\n",
    "    r = params[3]\n",
    "    return np.divide(s*z, c+(1.0/r)*np.power( np.abs(s*z), d))\n",
    "\n",
    "def dsigloge_dzc(z, params = [1,1, 1,1]):\n",
    "    d = params[0]\n",
    "    s = params[1]\n",
    "    c = params[2]\n",
    "    r = params[3]\n",
    "    \n",
    "    num = s*(np.abs(s)**d)*np.power(z, 2)*d*np.power(np.abs(z), d-1)\n",
    "    denom = 2*np.abs(z)*r*np.power((c+1.0/r*np.power(np.abs(s*z), d)), 2)\n",
    "    return -1*num/denom\n",
    "\n",
    "def dsigloge_dz(z, params = [1,1, 1, 1]):\n",
    "    d = params[0]\n",
    "    s = params[1]\n",
    "    c = params[2]\n",
    "    r = params[3]   \n",
    "    \n",
    "    num = s*(c+1.0/r*np.power(np.abs(s*z), d) - 0.5*d/r*np.power(np.abs(s), d)*np.power(np.abs(z), d))\n",
    "    denom = np.power((c+1.0/r*np.power(np.abs(s*z), d)), 2)\n",
    "    return num/denom"
   ]
  },
  {
   "cell_type": "code",
   "execution_count": 153,
   "metadata": {
    "collapsed": false
   },
   "outputs": [
    {
     "name": "stdout",
     "output_type": "stream",
     "text": [
      "z = (-0.662-0.336j), dz = (0.073+0j)\n",
      "R method: (0.023-0.001j), Your method: (0.023-0.001j)\n",
      "z = (-0.591-1.263j), dz = (-0.034+0j)\n",
      "R method: (-0.01+0.001j), Your method: (-0.01+0.001j)\n",
      "z = (-0.23-0.319j), dz = (0.041+0j)\n",
      "R method: (0.015+0j), Your method: (0.015+0j)\n",
      "z = (0.2-0.643j), dz = (-0.11+0j)\n",
      "R method: (-0.036+0j), Your method: (-0.036+0j)\n",
      "z = (0.661+1.032j), dz = (0.017+0j)\n",
      "R method: (0.005-0.001j), Your method: (0.005-0.001j)\n",
      "z = (-0.594-2.351j), dz = (0.058+0j)\n",
      "R method: (0.013+0j), Your method: (0.013+0j)\n",
      "z = (0.502+0.669j), dz = (-0.05+0j)\n",
      "R method: (-0.017+0.002j), Your method: (-0.017+0.002j)\n",
      "z = (-0.063+0.911j), dz = (0.045+0j)\n",
      "R method: (0.014+0j), Your method: (0.014+0j)\n",
      "z = (-0.271+0.145j), dz = (0.082+0j)\n",
      "R method: (0.03+0j), Your method: (0.03+0j)\n",
      "z = (1.684+0.956j), dz = (0.001+0j)\n",
      "R method: (0.001+0.001j), Your method: (0.001+0.001j)\n",
      "Done with tests, 0 out of 10 failed.\n"
     ]
    }
   ],
   "source": [
    "test_derivatives(sigloge, dsigloge_dz, dsigloge_dzc, eps = 1e-10, params = [1,1, 2.5, 2])"
   ]
  },
  {
   "cell_type": "markdown",
   "metadata": {},
   "source": [
    "Test iGaussian"
   ]
  },
  {
   "cell_type": "code",
   "execution_count": 110,
   "metadata": {
    "collapsed": true
   },
   "outputs": [],
   "source": [
    "def fig(z, params = 1):\n",
    "    return 1 - np.exp(-z*np.conj(z)/(2*params*params))\n",
    "\n",
    "def dfigdz(z, params = 1):\n",
    "    return np.exp(-z*np.conj(z)/(2*params*params))*np.conj(z)/(2*params*params)\n",
    "\n",
    "def dfigdzc(z, params = 1):\n",
    "    return np.exp(-z*np.conj(z)/(2*params*params))*z/(2*params*params)"
   ]
  },
  {
   "cell_type": "code",
   "execution_count": 111,
   "metadata": {
    "collapsed": false
   },
   "outputs": [
    {
     "name": "stdout",
     "output_type": "stream",
     "text": [
      "z = (-0.325+1.003j), dz = (0.012+0j)\n",
      "R method: (0.006-0.027j), Your method: (0.006-0.027j)\n",
      "z = (2.93+1.27j), dz = (-0.114+0j)\n",
      "R method: (-0.001+0j), Your method: (-0.001+0j)\n",
      "z = (-1.07-0.37j), dz = (-0.096+0j)\n",
      "R method: (0.016-0.013j), Your method: (0.016-0.013j)\n",
      "z = (-0.79+1.793j), dz = (0.019+0j)\n",
      "R method: (0.003-0.013j), Your method: (0.003-0.013j)\n",
      "z = (-0.298-0.74j), dz = (-0.021+0j)\n",
      "R method: (0.001-0.008j), Your method: (0.001-0.008j)\n",
      "z = (-1.02-0.999j), dz = (0.055+0j)\n",
      "R method: (-0.021-0.001j), Your method: (-0.021-0.001j)\n",
      "z = (0.585-0.782j), dz = (-0.038+0j)\n",
      "R method: (0.006-0.026j), Your method: (0.006-0.026j)\n",
      "z = (-1.087-0.165j), dz = (0.022+0j)\n",
      "R method: (-0.032-0.003j), Your method: (-0.032-0.003j)\n",
      "z = (-0.303-0.379j), dz = (-0.038+0j)\n",
      "R method: (0.004-0.008j), Your method: (0.004-0.008j)\n",
      "z = (0.073-2.089j), dz = (-0.006+0j)\n",
      "R method: -0.004j, Your method: -0.004j\n",
      "Done with tests, 0 out of 10 failed.\n"
     ]
    }
   ],
   "source": [
    "test_derivatives(fig, dfigdz, dfigdzc, eps = 1e-10, params = 1)"
   ]
  },
  {
   "cell_type": "code",
   "execution_count": 129,
   "metadata": {
    "collapsed": true
   },
   "outputs": [],
   "source": [
    "def figphase(z, params = 1):\n",
    "    return (1 - np.exp(-z*np.conj(z)/(2*params*params)))*n(z)\n",
    "\n",
    "def dfigdzphase(z, params = 1):\n",
    "    return n(z)*dfigdz(z, params) + fig(z, params)*dndz(z, params)\n",
    "\n",
    "def dfigdzcphase(z, params = 1):\n",
    "    return n(z)*dfigdzc(z, params) + fig(z, params)*dndzc(z, params)\n",
    "\n",
    "def n(z, params = None):\n",
    "    return z/np.abs(z)\n",
    "\n",
    "def dndz(z, params = None):\n",
    "    return 1/(2*np.abs(z))\n",
    "\n",
    "def dndzc(z, params = None):\n",
    "    return -1*z/(2*np.conj(z)*np.abs(z))\n"
   ]
  },
  {
   "cell_type": "code",
   "execution_count": 130,
   "metadata": {
    "collapsed": false
   },
   "outputs": [
    {
     "name": "stdout",
     "output_type": "stream",
     "text": [
      "z = (0.524+0.482j), dz = (0.015+0j)\n",
      "R method: (0.006-0.006j), Your method: (0.006-0.006j)\n",
      "z = (2.151-0.134j), dz = (-0.047+0j)\n",
      "R method: (-0.016+0j), Your method: (-0.016+0j)\n",
      "z = (-0.032+0.421j), dz = (-0.02+0j)\n",
      "R method: (-0.008-0j), Your method: (-0.008-0j)\n",
      "z = (2.414-0.263j), dz = (-0.023+0j)\n",
      "R method: (-0.002-0.001j), Your method: (-0.002-0.001j)\n",
      "z = (-0.713+0.456j), dz = (-0.013+0j)\n",
      "R method: (-0.008+0.004j), Your method: (-0.008+0.004j)\n",
      "z = (0.549-0.371j), dz = (-0.002+0j)\n",
      "R method: (-0.001+0.001j), Your method: (-0.001+0.001j)\n",
      "z = (-0.297-2.213j), dz = (0.026+0j)\n",
      "R method: (0.004+0.001j), Your method: (0.004+0.001j)\n",
      "z = (2.362-0.39j), dz = (-0.007+0j)\n",
      "R method: (-0.015+0.004j), Your method: (-0.015+0.004j)\n",
      "z = (0.601+0.493j), dz = (0.018+0j)\n",
      "R method: (0.008-0j), Your method: (0.008-0j)\n",
      "z = (-0.91+0.653j), dz = (-0.068+0j)\n",
      "R method: (-0.034-0.001j), Your method: (-0.034-0.001j)\n",
      "Done with tests, 0 out of 10 failed.\n"
     ]
    }
   ],
   "source": [
    "test_derivatives(figphase, dfigdzphase, dfigdzcphase, eps = 1e-10, params = 1)"
   ]
  },
  {
   "cell_type": "code",
   "execution_count": null,
   "metadata": {
    "collapsed": true
   },
   "outputs": [],
   "source": []
  }
 ],
 "metadata": {
  "kernelspec": {
   "display_name": "Python 2",
   "language": "python",
   "name": "python2"
  },
  "language_info": {
   "codemirror_mode": {
    "name": "ipython",
    "version": 2
   },
   "file_extension": ".py",
   "mimetype": "text/x-python",
   "name": "python",
   "nbconvert_exporter": "python",
   "pygments_lexer": "ipython2",
   "version": "2.7.13"
  }
 },
 "nbformat": 4,
 "nbformat_minor": 0
}
