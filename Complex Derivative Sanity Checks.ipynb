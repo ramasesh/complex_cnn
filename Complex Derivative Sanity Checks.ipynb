{
 "cells": [
  {
   "cell_type": "code",
   "execution_count": 1,
   "metadata": {
    "collapsed": true
   },
   "outputs": [],
   "source": [
    "import numpy as np\n",
    "import scipy as sc\n",
    "\n",
    "import matplotlib.pyplot as plt\n",
    "%matplotlib inline"
   ]
  },
  {
   "cell_type": "code",
   "execution_count": 39,
   "metadata": {
    "collapsed": true
   },
   "outputs": [],
   "source": [
    "def dfdx(fun, z, eps = 1e-6):\n",
    "    # returns the derivative of fun with respect to x evaluated at z\n",
    "    return np.divide(fun(z + eps) - fun(z), eps)\n",
    "\n",
    "def dfdy(fun, z, eps = 1e-6):\n",
    "    # returns the derivative of fun with respect to y evaluated at z\n",
    "    return np.divide(fun(z + eps*1j) - fun(z), eps)"
   ]
  },
  {
   "cell_type": "code",
   "execution_count": 82,
   "metadata": {
    "collapsed": true
   },
   "outputs": [],
   "source": [
    "def test_derivatives(fun, dfundz, dfundzc, n_pts = 10, eps = None):\n",
    "    fail_counts = 0\n",
    "    for i in range(n_pts):\n",
    "        z_test = np.random.randn() + np.random.randn()*1j\n",
    "        dx = np.random.randn()/30\n",
    "        dy = np.random.randn()/30*1j\n",
    "        dz_test = dx + dy*1j\n",
    "        dzc_test = dx - dy*1j\n",
    "        \n",
    "        print 'z = {}, dz = {}'.format(np.round(z_test, 3), np.round(dz_test, 3))\n",
    "        a = dfdx(fun, z_test, eps)*dx + dfdy(fun, z_test, eps)*dy\n",
    "        b = dfundz(z_test)*dz_test + dfundzc(z_test)*dzc_test\n",
    "        print 'R method: {}, Your method: {}'.format(np.round(a, 3), np.round(b, 3))\n",
    "        \n",
    "        if not np.round(a, 3) == np.round(b, 3):\n",
    "            print \"Failure!\"\n",
    "            fail_counts += 1\n",
    "    print \"Done with tests, {} out of {} failed.\".format(fail_counts, n_pts)\n",
    "        "
   ]
  },
  {
   "cell_type": "markdown",
   "metadata": {},
   "source": [
    "Test 1: Magnitude of z"
   ]
  },
  {
   "cell_type": "code",
   "execution_count": 35,
   "metadata": {
    "collapsed": true
   },
   "outputs": [],
   "source": [
    "def f1(z, params = None):\n",
    "    # definition of complex function.\n",
    "    # in the case of a function with additional parameters, e.g. siglog,\n",
    "    # the params should be passed in the second argument as an array    \n",
    "    return np.power(np.abs(z),3)\n",
    "\n",
    "def df1dz(z, params = None):\n",
    "    # our guess for the derivative of the complex function \n",
    "    # w.r.t. z\n",
    "    return 1.5*np.abs(z)*np.conj(z)\n",
    "\n",
    "def df1dzc(z, params = None):\n",
    "    # our guess for the derivative of the complex function \n",
    "    # w.r.t. conj(z)\n",
    "    return 1.5*np.abs(z)*z"
   ]
  },
  {
   "cell_type": "markdown",
   "metadata": {},
   "source": [
    "Test 2: z"
   ]
  },
  {
   "cell_type": "code",
   "execution_count": 41,
   "metadata": {
    "collapsed": true
   },
   "outputs": [],
   "source": [
    "def f2(z, params = None):\n",
    "    # definition of complex function.\n",
    "    # in the case of a function with additional parameters, e.g. siglog,\n",
    "    # the params should be passed in the second argument as an array    \n",
    "    return z\n",
    "\n",
    "def df2dz(z, params = None):\n",
    "    # our guess for the derivative of the complex function \n",
    "    # w.r.t. z\n",
    "    return 1\n",
    "\n",
    "def df2dzc(z, params = None):\n",
    "    # our guess for the derivative of the complex function \n",
    "    # w.r.t. conj(z)\n",
    "    return 0*z"
   ]
  },
  {
   "cell_type": "markdown",
   "metadata": {},
   "source": [
    "Test 3: Cardioid"
   ]
  },
  {
   "cell_type": "code",
   "execution_count": 86,
   "metadata": {
    "collapsed": true
   },
   "outputs": [],
   "source": [
    "def fcard(z, params = None):\n",
    "    return 0.5*(1+ np.cos(np.angle(z)))*z\n",
    "\n",
    "def dfcard_dz(z, params = None):\n",
    "    return 0.5 + 0.5*np.cos(np.angle(z)) + 0.25*1j*np.sin(np.angle(z))\n",
    "\n",
    "def dfcard_dzc(z, params = None):\n",
    "    return -0.25*1j*np.sin(np.angle(z))*z/np.conj(z)"
   ]
  },
  {
   "cell_type": "code",
   "execution_count": 87,
   "metadata": {
    "collapsed": false
   },
   "outputs": [
    {
     "name": "stdout",
     "output_type": "stream",
     "text": [
      "z = (-0.301+0.751j), dz = (-0.021+0j)\n",
      "R method: (-0.015+0.004j), Your method: (-0.015+0.004j)\n",
      "z = (-1.111-0.775j), dz = (-0.004+0j)\n",
      "R method: (-0.01+0.004j), Your method: (-0.01+0.004j)\n",
      "z = (0.877-1.822j), dz = (-0.009+0j)\n",
      "R method: (-0.012+0.007j), Your method: (-0.012+0.007j)\n",
      "z = (0.33-0.581j), dz = (-0.008+0j)\n",
      "R method: (-0.005+0.001j), Your method: (-0.005+0.001j)\n",
      "z = (0.043-0.797j), dz = (0.019+0j)\n",
      "R method: (0.01-0.001j), Your method: (0.01-0.001j)\n",
      "z = (-0.732+0.573j), dz = (0.059+0j)\n",
      "R method: (0.023+0.013j), Your method: (0.023+0.013j)\n",
      "z = (0.341-1.723j), dz = (0.012+0j)\n",
      "R method: (0.014-0.02j), Your method: (0.014-0.02j)\n",
      "z = (0.093-0.285j), dz = (-0.018+0j)\n",
      "R method: (-0.008-0.001j), Your method: (-0.008-0.001j)\n",
      "z = (0.616+1.257j), dz = (0.006+0j)\n",
      "R method: (0.01+0.006j), Your method: (0.01+0.006j)\n",
      "z = (2.044+1.586j), dz = (0.088+0j)\n",
      "R method: (0.08+0.013j), Your method: (0.08+0.013j)\n",
      "Done with tests, 0 out of 10 failed.\n"
     ]
    }
   ],
   "source": [
    "test_derivatives(fcard, dfcard_dz, dfcard_dzc, eps = 1e-10)"
   ]
  }
 ],
 "metadata": {
  "kernelspec": {
   "display_name": "Python 2",
   "language": "python",
   "name": "python2"
  },
  "language_info": {
   "codemirror_mode": {
    "name": "ipython",
    "version": 2
   },
   "file_extension": ".py",
   "mimetype": "text/x-python",
   "name": "python",
   "nbconvert_exporter": "python",
   "pygments_lexer": "ipython2",
   "version": "2.7.13"
  }
 },
 "nbformat": 4,
 "nbformat_minor": 0
}
